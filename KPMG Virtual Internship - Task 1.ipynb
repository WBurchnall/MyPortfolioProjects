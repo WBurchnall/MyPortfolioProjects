{
 "cells": [
  {
   "cell_type": "markdown",
   "metadata": {},
   "source": [
    "## KPMG Virtual Analytics Internship Program\n",
    "# Starting of Data Analysis Proccess (EDA - Exploratory Data Analysis)"
   ]
  },
  {
   "cell_type": "code",
   "execution_count": 1,
   "metadata": {},
   "outputs": [
    {
     "name": "stderr",
     "output_type": "stream",
     "text": [
      "C:\\Users\\WBurc\\AppData\\Local\\Temp\\ipykernel_25852\\2913502600.py:5: FutureWarning: Inferring datetime64[ns] from data containing strings is deprecated and will be removed in a future version. To retain the old behavior explicitly pass Series(data, dtype=datetime64[ns])\n",
      "  dfList.append(pd.read_excel('KPMG_VI_New_raw_data_update_final.xlsx', sheet_name=number,header=1))\n"
     ]
    }
   ],
   "source": [
    "import pandas as pd\n",
    "sheetLists = [1,3,4]\n",
    "dfList = []\n",
    "for number in sheetLists:\n",
    "    dfList.append(pd.read_excel('KPMG_VI_New_raw_data_update_final.xlsx', sheet_name=number,header=1))\n",
    "    \n",
    "# transactions_df = pd.read_excel('KPMG_VI_New_raw_data_update_final.xlsx', sheet_name=1,header=1)\n",
    "# cust_demographics_df = pd.read_excel('KPMG_VI_New_raw_data_update_final.xlsx', sheet_name=3, header=1)\n",
    "# cust_address = pd.read_excel('KPMG_VI_New_raw_data_update_final.xlsx', sheet_name=4, header=1)\n",
    "\n",
    "#First entry will be trasnactions in the array, second customer demographis and third customer address. "
   ]
  },
  {
   "cell_type": "markdown",
   "metadata": {},
   "source": [
    "After loading the data, we will quickly confirm the headers are in proper and data appears roughly as expected."
   ]
  },
  {
   "cell_type": "code",
   "execution_count": 2,
   "metadata": {},
   "outputs": [
    {
     "name": "stdout",
     "output_type": "stream",
     "text": [
      "   transaction_id  product_id  customer_id transaction_date  online_order  \\\n",
      "0           16701           0         5034       2017-01-27           0.0   \n",
      "1            8708           0         5034       2017-10-07           0.0   \n",
      "\n",
      "  order_status           brand product_line product_class product_size  \\\n",
      "0     Approved  Norco Bicycles     Standard        medium       medium   \n",
      "1     Approved           Solex         Road        medium       medium   \n",
      "\n",
      "   list_price  standard_cost  product_first_sold_date  \n",
      "0      360.40     270.299988                  35667.0  \n",
      "1      416.98     312.735016                  42218.0  \n",
      "   customer_id first_name last_name  gender  \\\n",
      "0         1092     Katlin   Creddon  Female   \n",
      "1         3410    Merrili   Brittin  Female   \n",
      "\n",
      "   past_3_years_bike_related_purchases        DOB           job_title  \\\n",
      "0                                   56 1935-08-22  VP Quality Control   \n",
      "1                                   93 1940-09-22                 NaN   \n",
      "\n",
      "  job_industry_category wealth_segment deceased_indicator             default  \\\n",
      "0                Retail  Mass Customer                  N  ì¬íê³¼íì ì´íì°êµ¬ì   \n",
      "1              Property  Mass Customer                  N                   á   \n",
      "\n",
      "  owns_car  tenure  \n",
      "0       No     5.0  \n",
      "1       No    16.0  \n",
      "   customer_id              address  postcode            state    country  \\\n",
      "0            1   060 Morning Avenue      2016  New South Wales  Australia   \n",
      "1            2  6 Meadow Vale Court      2153  New South Wales  Australia   \n",
      "\n",
      "   property_valuation  \n",
      "0                  10  \n",
      "1                  10  \n"
     ]
    }
   ],
   "source": [
    "#cycling through the three dataframes to insure header/data output appears correctly.\n",
    "for x in dfList:\n",
    "    print(x.head(2))"
   ]
  },
  {
   "cell_type": "markdown",
   "metadata": {},
   "source": [
    "Next, we can quickly examine our tables with the .info() command which will tell us the data type of each column and the count of non-null values. We can also see the number of missing entries summed by column with a single command using Jypter Notebook/Pandas."
   ]
  },
  {
   "cell_type": "code",
   "execution_count": 3,
   "metadata": {},
   "outputs": [
    {
     "name": "stdout",
     "output_type": "stream",
     "text": [
      "<class 'pandas.core.frame.DataFrame'>\n",
      "RangeIndex: 20000 entries, 0 to 19999\n",
      "Data columns (total 13 columns):\n",
      " #   Column                   Non-Null Count  Dtype         \n",
      "---  ------                   --------------  -----         \n",
      " 0   transaction_id           20000 non-null  int64         \n",
      " 1   product_id               20000 non-null  int64         \n",
      " 2   customer_id              20000 non-null  int64         \n",
      " 3   transaction_date         20000 non-null  datetime64[ns]\n",
      " 4   online_order             19640 non-null  float64       \n",
      " 5   order_status             20000 non-null  object        \n",
      " 6   brand                    19803 non-null  object        \n",
      " 7   product_line             19803 non-null  object        \n",
      " 8   product_class            19803 non-null  object        \n",
      " 9   product_size             19803 non-null  object        \n",
      " 10  list_price               20000 non-null  float64       \n",
      " 11  standard_cost            19803 non-null  float64       \n",
      " 12  product_first_sold_date  19803 non-null  float64       \n",
      "dtypes: datetime64[ns](1), float64(4), int64(3), object(5)\n",
      "memory usage: 2.0+ MB\n"
     ]
    }
   ],
   "source": [
    "#cycling through the three dataframes to check for data inconsistency \n",
    "#Beginning with df(0) or transactions\n",
    "dfList[0].info()"
   ]
  },
  {
   "cell_type": "markdown",
   "metadata": {},
   "source": [
    "Most columns has 20,000 values in transcations except \"order online\" that is missing 360 values, and the columns \"brand, product_line, product_class, product_size, standard_cost and product_first_sold_date\" which is missing 197 entries."
   ]
  },
  {
   "cell_type": "code",
   "execution_count": 4,
   "metadata": {},
   "outputs": [
    {
     "data": {
      "text/plain": [
       "transaction_id               0\n",
       "product_id                   0\n",
       "customer_id                  0\n",
       "transaction_date             0\n",
       "online_order               360\n",
       "order_status                 0\n",
       "brand                      197\n",
       "product_line               197\n",
       "product_class              197\n",
       "product_size               197\n",
       "list_price                   0\n",
       "standard_cost              197\n",
       "product_first_sold_date    197\n",
       "dtype: int64"
      ]
     },
     "execution_count": 4,
     "metadata": {},
     "output_type": "execute_result"
    }
   ],
   "source": [
    "dfList[0].isnull().sum()"
   ]
  },
  {
   "cell_type": "markdown",
   "metadata": {},
   "source": [
    "Moving onto the customer demographics table"
   ]
  },
  {
   "cell_type": "code",
   "execution_count": 5,
   "metadata": {},
   "outputs": [
    {
     "name": "stdout",
     "output_type": "stream",
     "text": [
      "<class 'pandas.core.frame.DataFrame'>\n",
      "RangeIndex: 4000 entries, 0 to 3999\n",
      "Data columns (total 13 columns):\n",
      " #   Column                               Non-Null Count  Dtype         \n",
      "---  ------                               --------------  -----         \n",
      " 0   customer_id                          4000 non-null   int64         \n",
      " 1   first_name                           4000 non-null   object        \n",
      " 2   last_name                            3875 non-null   object        \n",
      " 3   gender                               4000 non-null   object        \n",
      " 4   past_3_years_bike_related_purchases  4000 non-null   int64         \n",
      " 5   DOB                                  3913 non-null   datetime64[ns]\n",
      " 6   job_title                            3494 non-null   object        \n",
      " 7   job_industry_category                3344 non-null   object        \n",
      " 8   wealth_segment                       4000 non-null   object        \n",
      " 9   deceased_indicator                   4000 non-null   object        \n",
      " 10  default                              3698 non-null   object        \n",
      " 11  owns_car                             4000 non-null   object        \n",
      " 12  tenure                               3913 non-null   float64       \n",
      "dtypes: datetime64[ns](1), float64(1), int64(2), object(9)\n",
      "memory usage: 406.4+ KB\n"
     ]
    }
   ],
   "source": [
    "dfList[1].info()"
   ]
  },
  {
   "cell_type": "markdown",
   "metadata": {},
   "source": [
    "We can see job_industry_category has the most missing entries, followed by job_title and default. Overall, there are a total of 400 records. The next command sum the number of null (empty) values in our data. 125 customers are missing last names. 87 customers have no date of birth. Job titles and categories are missing approximately 12.5% and 16.5% of the time respectively. Default appears to be missing 302 times and when examining this column, it largely seems to contain junk-data and may be corrupted data. Sample entries include 'ÅâÂ´â°ËÃÂ¨ËÃâââ' and 'img src=x onerror=alert('hi') />'"
   ]
  },
  {
   "cell_type": "code",
   "execution_count": 6,
   "metadata": {},
   "outputs": [
    {
     "data": {
      "text/plain": [
       "customer_id                              0\n",
       "first_name                               0\n",
       "last_name                              125\n",
       "gender                                   0\n",
       "past_3_years_bike_related_purchases      0\n",
       "DOB                                     87\n",
       "job_title                              506\n",
       "job_industry_category                  656\n",
       "wealth_segment                           0\n",
       "deceased_indicator                       0\n",
       "default                                302\n",
       "owns_car                                 0\n",
       "tenure                                  87\n",
       "dtype: int64"
      ]
     },
     "execution_count": 6,
     "metadata": {},
     "output_type": "execute_result"
    }
   ],
   "source": [
    "dfList[1].isnull().sum()"
   ]
  },
  {
   "cell_type": "markdown",
   "metadata": {},
   "source": [
    "Looking at our third table, we can see no missing entries."
   ]
  },
  {
   "cell_type": "code",
   "execution_count": 7,
   "metadata": {},
   "outputs": [
    {
     "name": "stdout",
     "output_type": "stream",
     "text": [
      "<class 'pandas.core.frame.DataFrame'>\n",
      "RangeIndex: 3999 entries, 0 to 3998\n",
      "Data columns (total 6 columns):\n",
      " #   Column              Non-Null Count  Dtype \n",
      "---  ------              --------------  ----- \n",
      " 0   customer_id         3999 non-null   int64 \n",
      " 1   address             3999 non-null   object\n",
      " 2   postcode            3999 non-null   int64 \n",
      " 3   state               3999 non-null   object\n",
      " 4   country             3999 non-null   object\n",
      " 5   property_valuation  3999 non-null   int64 \n",
      "dtypes: int64(3), object(3)\n",
      "memory usage: 187.6+ KB\n"
     ]
    }
   ],
   "source": [
    "dfList[2].info()"
   ]
  },
  {
   "cell_type": "code",
   "execution_count": 14,
   "metadata": {},
   "outputs": [
    {
     "data": {
      "text/plain": [
       "customer_id           0\n",
       "address               0\n",
       "postcode              0\n",
       "state                 0\n",
       "country               0\n",
       "property_valuation    0\n",
       "dtype: int64"
      ]
     },
     "execution_count": 14,
     "metadata": {},
     "output_type": "execute_result"
    }
   ],
   "source": [
    "dfList[2].isnull().sum()"
   ]
  },
  {
   "cell_type": "markdown",
   "metadata": {},
   "source": [
    "While there 4000 customer demograpic entries, there are only 3999 customer addresses listed. There must be at least 1 duplicate demographic entries or 1 missing customer address."
   ]
  },
  {
   "cell_type": "markdown",
   "metadata": {},
   "source": [
    "# Summary of Data Contained In The Transaction Data Sheet"
   ]
  },
  {
   "cell_type": "code",
   "execution_count": 15,
   "metadata": {},
   "outputs": [
    {
     "data": {
      "text/html": [
       "<div>\n",
       "<style scoped>\n",
       "    .dataframe tbody tr th:only-of-type {\n",
       "        vertical-align: middle;\n",
       "    }\n",
       "\n",
       "    .dataframe tbody tr th {\n",
       "        vertical-align: top;\n",
       "    }\n",
       "\n",
       "    .dataframe thead th {\n",
       "        text-align: right;\n",
       "    }\n",
       "</style>\n",
       "<table border=\"1\" class=\"dataframe\">\n",
       "  <thead>\n",
       "    <tr style=\"text-align: right;\">\n",
       "      <th></th>\n",
       "      <th>transaction_id</th>\n",
       "      <th>product_id</th>\n",
       "      <th>customer_id</th>\n",
       "      <th>online_order</th>\n",
       "      <th>list_price</th>\n",
       "      <th>standard_cost</th>\n",
       "      <th>product_first_sold_date</th>\n",
       "    </tr>\n",
       "  </thead>\n",
       "  <tbody>\n",
       "    <tr>\n",
       "      <th>count</th>\n",
       "      <td>20000.000000</td>\n",
       "      <td>20000.00000</td>\n",
       "      <td>20000.000000</td>\n",
       "      <td>19640.000000</td>\n",
       "      <td>20000.000000</td>\n",
       "      <td>19803.000000</td>\n",
       "      <td>19803.000000</td>\n",
       "    </tr>\n",
       "    <tr>\n",
       "      <th>mean</th>\n",
       "      <td>10000.500000</td>\n",
       "      <td>45.36465</td>\n",
       "      <td>1738.246050</td>\n",
       "      <td>0.500458</td>\n",
       "      <td>1107.829449</td>\n",
       "      <td>556.046951</td>\n",
       "      <td>38199.776549</td>\n",
       "    </tr>\n",
       "    <tr>\n",
       "      <th>std</th>\n",
       "      <td>5773.647028</td>\n",
       "      <td>30.75359</td>\n",
       "      <td>1011.951046</td>\n",
       "      <td>0.500013</td>\n",
       "      <td>582.825242</td>\n",
       "      <td>405.955660</td>\n",
       "      <td>2875.201110</td>\n",
       "    </tr>\n",
       "    <tr>\n",
       "      <th>min</th>\n",
       "      <td>1.000000</td>\n",
       "      <td>0.00000</td>\n",
       "      <td>1.000000</td>\n",
       "      <td>0.000000</td>\n",
       "      <td>12.010000</td>\n",
       "      <td>7.210000</td>\n",
       "      <td>33259.000000</td>\n",
       "    </tr>\n",
       "    <tr>\n",
       "      <th>25%</th>\n",
       "      <td>5000.750000</td>\n",
       "      <td>18.00000</td>\n",
       "      <td>857.750000</td>\n",
       "      <td>0.000000</td>\n",
       "      <td>575.270000</td>\n",
       "      <td>215.140000</td>\n",
       "      <td>35667.000000</td>\n",
       "    </tr>\n",
       "    <tr>\n",
       "      <th>50%</th>\n",
       "      <td>10000.500000</td>\n",
       "      <td>44.00000</td>\n",
       "      <td>1736.000000</td>\n",
       "      <td>1.000000</td>\n",
       "      <td>1163.890000</td>\n",
       "      <td>507.580000</td>\n",
       "      <td>38216.000000</td>\n",
       "    </tr>\n",
       "    <tr>\n",
       "      <th>75%</th>\n",
       "      <td>15000.250000</td>\n",
       "      <td>72.00000</td>\n",
       "      <td>2613.000000</td>\n",
       "      <td>1.000000</td>\n",
       "      <td>1635.300000</td>\n",
       "      <td>795.100000</td>\n",
       "      <td>40672.000000</td>\n",
       "    </tr>\n",
       "    <tr>\n",
       "      <th>max</th>\n",
       "      <td>20000.000000</td>\n",
       "      <td>100.00000</td>\n",
       "      <td>5034.000000</td>\n",
       "      <td>1.000000</td>\n",
       "      <td>2091.470000</td>\n",
       "      <td>1759.850000</td>\n",
       "      <td>42710.000000</td>\n",
       "    </tr>\n",
       "  </tbody>\n",
       "</table>\n",
       "</div>"
      ],
      "text/plain": [
       "       transaction_id   product_id   customer_id  online_order    list_price  \\\n",
       "count    20000.000000  20000.00000  20000.000000  19640.000000  20000.000000   \n",
       "mean     10000.500000     45.36465   1738.246050      0.500458   1107.829449   \n",
       "std       5773.647028     30.75359   1011.951046      0.500013    582.825242   \n",
       "min          1.000000      0.00000      1.000000      0.000000     12.010000   \n",
       "25%       5000.750000     18.00000    857.750000      0.000000    575.270000   \n",
       "50%      10000.500000     44.00000   1736.000000      1.000000   1163.890000   \n",
       "75%      15000.250000     72.00000   2613.000000      1.000000   1635.300000   \n",
       "max      20000.000000    100.00000   5034.000000      1.000000   2091.470000   \n",
       "\n",
       "       standard_cost  product_first_sold_date  \n",
       "count   19803.000000             19803.000000  \n",
       "mean      556.046951             38199.776549  \n",
       "std       405.955660              2875.201110  \n",
       "min         7.210000             33259.000000  \n",
       "25%       215.140000             35667.000000  \n",
       "50%       507.580000             38216.000000  \n",
       "75%       795.100000             40672.000000  \n",
       "max      1759.850000             42710.000000  "
      ]
     },
     "execution_count": 15,
     "metadata": {},
     "output_type": "execute_result"
    }
   ],
   "source": [
    "dfList[0].describe()"
   ]
  },
  {
   "cell_type": "markdown",
   "metadata": {},
   "source": [
    "Looking at the output of the describe feature for transaction dataframe, we can see the average list price of items sold was $582.82 and 50.05% of sales were online or nearly half. The least expensive item sold was for $12.01. The most expensive item sold was for $2091.47. The median price, where exactly half the items sold for less and half the items sold for more was $1163.89. While one quarter was under $575.27 and one quarter was above $1163.89.\n",
    "\n",
    "Another observation is list price is not listed as a currency in the excel file while standard cost is listed as a currency. Reformatting the row might be better for your data clarity."
   ]
  },
  {
   "cell_type": "code",
   "execution_count": 16,
   "metadata": {},
   "outputs": [
    {
     "name": "stdout",
     "output_type": "stream",
     "text": [
      "Customer_ID statistics of Transaction dataframe: \n",
      "\n",
      "Count of Customer_Ids:  20000 \n",
      "Unique customer IDs:  3494 \n",
      "Largest Customer ID:  5034\n"
     ]
    }
   ],
   "source": [
    "print(\"Customer_ID statistics of Transaction dataframe: \\n\")\n",
    "print(\"Count of Customer_Ids: \", dfList[0]['customer_id'].count(),\"\\nUnique customer IDs: \", len(dfList[0]['customer_id'].unique()), \"\\nLargest Customer ID: \", dfList[0]['customer_id'].max())"
   ]
  },
  {
   "cell_type": "markdown",
   "metadata": {},
   "source": [
    "From this data, we can see there are 20,000 UserIDs listed, 3494 unique IDs and 5034 is the maximum ID. It is likely 5034 being so far above the other largest customer IDs is a data entry error. Ex. Perhaps 0534 or 3405 was intended. The maximum userID jumps from 3500 to 5034 and seems to abruptly change. This customer's sale data also contains standard prices with an unusual quality of decimal places not standard for a currency figure."
   ]
  },
  {
   "cell_type": "code",
   "execution_count": 17,
   "metadata": {},
   "outputs": [
    {
     "data": {
      "text/html": [
       "<div>\n",
       "<style scoped>\n",
       "    .dataframe tbody tr th:only-of-type {\n",
       "        vertical-align: middle;\n",
       "    }\n",
       "\n",
       "    .dataframe tbody tr th {\n",
       "        vertical-align: top;\n",
       "    }\n",
       "\n",
       "    .dataframe thead th {\n",
       "        text-align: right;\n",
       "    }\n",
       "</style>\n",
       "<table border=\"1\" class=\"dataframe\">\n",
       "  <thead>\n",
       "    <tr style=\"text-align: right;\">\n",
       "      <th></th>\n",
       "      <th>transaction_id</th>\n",
       "      <th>product_id</th>\n",
       "      <th>customer_id</th>\n",
       "      <th>transaction_date</th>\n",
       "      <th>online_order</th>\n",
       "      <th>order_status</th>\n",
       "      <th>brand</th>\n",
       "      <th>product_line</th>\n",
       "      <th>product_class</th>\n",
       "      <th>product_size</th>\n",
       "      <th>list_price</th>\n",
       "      <th>standard_cost</th>\n",
       "      <th>product_first_sold_date</th>\n",
       "    </tr>\n",
       "  </thead>\n",
       "  <tbody>\n",
       "  </tbody>\n",
       "</table>\n",
       "</div>"
      ],
      "text/plain": [
       "Empty DataFrame\n",
       "Columns: [transaction_id, product_id, customer_id, transaction_date, online_order, order_status, brand, product_line, product_class, product_size, list_price, standard_cost, product_first_sold_date]\n",
       "Index: []"
      ]
     },
     "execution_count": 17,
     "metadata": {},
     "output_type": "execute_result"
    }
   ],
   "source": [
    "dfList[0][dfList[0].standard_cost > dfList[0].list_price]"
   ]
  },
  {
   "cell_type": "markdown",
   "metadata": {},
   "source": [
    "We can also confirm there are no instances were an item was sold at a loss. Next, we'll check for null values and determine the percentage of entries with null values. We can see there are 360 values where it is unclear of the order was online or in person and 197 orders for which the brand, product_line, product_class, product_size, standard_cost and product_first_sold_date is absent. This represents approximate 0.985% to 1.8% of the data. If we were to remove this data from our analysis, we could perform analytics based upon over 98% of the customer data."
   ]
  },
  {
   "cell_type": "code",
   "execution_count": 25,
   "metadata": {},
   "outputs": [
    {
     "data": {
      "text/plain": [
       "transaction_id             0.000\n",
       "product_id                 0.000\n",
       "customer_id                0.000\n",
       "transaction_date           0.000\n",
       "online_order               1.800\n",
       "order_status               0.000\n",
       "brand                      0.985\n",
       "product_line               0.985\n",
       "product_class              0.985\n",
       "product_size               0.985\n",
       "list_price                 0.000\n",
       "standard_cost              0.985\n",
       "product_first_sold_date    0.985\n",
       "dtype: float64"
      ]
     },
     "execution_count": 25,
     "metadata": {},
     "output_type": "execute_result"
    }
   ],
   "source": [
    "(dfList[0].isnull().sum() / 20000) * 100"
   ]
  },
  {
   "cell_type": "code",
   "execution_count": 26,
   "metadata": {},
   "outputs": [
    {
     "data": {
      "text/plain": [
       "transaction_id               0\n",
       "product_id                   0\n",
       "customer_id                  0\n",
       "transaction_date             0\n",
       "online_order               360\n",
       "order_status                 0\n",
       "brand                      197\n",
       "product_line               197\n",
       "product_class              197\n",
       "product_size               197\n",
       "list_price                   0\n",
       "standard_cost              197\n",
       "product_first_sold_date    197\n",
       "dtype: int64"
      ]
     },
     "execution_count": 26,
     "metadata": {},
     "output_type": "execute_result"
    }
   ],
   "source": [
    "dfList[0].isnull().sum()"
   ]
  },
  {
   "cell_type": "markdown",
   "metadata": {},
   "source": [
    "# Summary of Data Contained In The Customer Demographic Data Sheet"
   ]
  },
  {
   "cell_type": "markdown",
   "metadata": {},
   "source": [
    "Examining the statistical data for this table, we can see over the last three years, the average customer purchased about 49 bike repeated purchases. The maximum purchases any given customer made was 99 and the minimum was 0. A few columns could be better described. The column Tensure is slightly unclear. Was this meant the duration a person has been a customer of our client or the time the customer has worked at their current employer? Wealth Segment is also a categorial variable that might be more useful to have replaced with a number-range for calculations. There are currently three-different categories. \"Mass Customer\", \"Affluent Customer\" and \"High Networth Customer\". What is the difference in wealth segement between having a high networth and being affluent? The category leaves this somewhat unclear.\n",
    "341770 341770 341770"
   ]
  },
  {
   "cell_type": "code",
   "execution_count": 27,
   "metadata": {},
   "outputs": [
    {
     "data": {
      "text/html": [
       "<div>\n",
       "<style scoped>\n",
       "    .dataframe tbody tr th:only-of-type {\n",
       "        vertical-align: middle;\n",
       "    }\n",
       "\n",
       "    .dataframe tbody tr th {\n",
       "        vertical-align: top;\n",
       "    }\n",
       "\n",
       "    .dataframe thead th {\n",
       "        text-align: right;\n",
       "    }\n",
       "</style>\n",
       "<table border=\"1\" class=\"dataframe\">\n",
       "  <thead>\n",
       "    <tr style=\"text-align: right;\">\n",
       "      <th></th>\n",
       "      <th>customer_id</th>\n",
       "      <th>past_3_years_bike_related_purchases</th>\n",
       "      <th>tenure</th>\n",
       "    </tr>\n",
       "  </thead>\n",
       "  <tbody>\n",
       "    <tr>\n",
       "      <th>count</th>\n",
       "      <td>4000.000000</td>\n",
       "      <td>4000.000000</td>\n",
       "      <td>3913.000000</td>\n",
       "    </tr>\n",
       "    <tr>\n",
       "      <th>mean</th>\n",
       "      <td>2000.500000</td>\n",
       "      <td>48.890000</td>\n",
       "      <td>10.657041</td>\n",
       "    </tr>\n",
       "    <tr>\n",
       "      <th>std</th>\n",
       "      <td>1154.844867</td>\n",
       "      <td>28.715005</td>\n",
       "      <td>5.660146</td>\n",
       "    </tr>\n",
       "    <tr>\n",
       "      <th>min</th>\n",
       "      <td>1.000000</td>\n",
       "      <td>0.000000</td>\n",
       "      <td>1.000000</td>\n",
       "    </tr>\n",
       "    <tr>\n",
       "      <th>25%</th>\n",
       "      <td>1000.750000</td>\n",
       "      <td>24.000000</td>\n",
       "      <td>6.000000</td>\n",
       "    </tr>\n",
       "    <tr>\n",
       "      <th>50%</th>\n",
       "      <td>2000.500000</td>\n",
       "      <td>48.000000</td>\n",
       "      <td>11.000000</td>\n",
       "    </tr>\n",
       "    <tr>\n",
       "      <th>75%</th>\n",
       "      <td>3000.250000</td>\n",
       "      <td>73.000000</td>\n",
       "      <td>15.000000</td>\n",
       "    </tr>\n",
       "    <tr>\n",
       "      <th>max</th>\n",
       "      <td>4000.000000</td>\n",
       "      <td>99.000000</td>\n",
       "      <td>22.000000</td>\n",
       "    </tr>\n",
       "  </tbody>\n",
       "</table>\n",
       "</div>"
      ],
      "text/plain": [
       "       customer_id  past_3_years_bike_related_purchases       tenure\n",
       "count  4000.000000                          4000.000000  3913.000000\n",
       "mean   2000.500000                            48.890000    10.657041\n",
       "std    1154.844867                            28.715005     5.660146\n",
       "min       1.000000                             0.000000     1.000000\n",
       "25%    1000.750000                            24.000000     6.000000\n",
       "50%    2000.500000                            48.000000    11.000000\n",
       "75%    3000.250000                            73.000000    15.000000\n",
       "max    4000.000000                            99.000000    22.000000"
      ]
     },
     "execution_count": 27,
     "metadata": {},
     "output_type": "execute_result"
    }
   ],
   "source": [
    "dfList[1].describe()"
   ]
  },
  {
   "cell_type": "markdown",
   "metadata": {},
   "source": [
    "Checking for null (missing) values and calculating the percentages, we can see significantly more data is missing from our demographics table by percentage. We can see there are 360 values where it is unclear of the order was online. This figure matches the quantity of the missing data in the transaction table. 197 orders for which the brand, product_line, product_class, product_size, standard_cost and product_first_sold_date is absent. 16.4% of job industry categories and 12.65% of job titles are missing from our dataset. The category \"default\" containing junk-data is the third most common missing category. The other columns have above 96% completion. If we were to drop these customers, we could perform analytics on 96% of the dataset. If customer industry an important criteria for your business, you wish for analytics to be calculated on, 83.6% is the maximum customer base percentage we could use."
   ]
  },
  {
   "cell_type": "code",
   "execution_count": 31,
   "metadata": {},
   "outputs": [
    {
     "data": {
      "text/plain": [
       "customer_id                             0.000\n",
       "first_name                              0.000\n",
       "last_name                               3.125\n",
       "gender                                  0.000\n",
       "past_3_years_bike_related_purchases     0.000\n",
       "DOB                                     2.175\n",
       "job_title                              12.650\n",
       "job_industry_category                  16.400\n",
       "wealth_segment                          0.000\n",
       "deceased_indicator                      0.000\n",
       "default                                 7.550\n",
       "owns_car                                0.000\n",
       "tenure                                  2.175\n",
       "dtype: float64"
      ]
     },
     "execution_count": 31,
     "metadata": {},
     "output_type": "execute_result"
    }
   ],
   "source": [
    "(dfList[1].isnull().sum() / 4000) * 100"
   ]
  },
  {
   "cell_type": "code",
   "execution_count": 32,
   "metadata": {},
   "outputs": [
    {
     "data": {
      "text/plain": [
       "customer_id                              0\n",
       "first_name                               0\n",
       "last_name                              125\n",
       "gender                                   0\n",
       "past_3_years_bike_related_purchases      0\n",
       "DOB                                     87\n",
       "job_title                              506\n",
       "job_industry_category                  656\n",
       "wealth_segment                           0\n",
       "deceased_indicator                       0\n",
       "default                                302\n",
       "owns_car                                 0\n",
       "tenure                                  87\n",
       "dtype: int64"
      ]
     },
     "execution_count": 32,
     "metadata": {},
     "output_type": "execute_result"
    }
   ],
   "source": [
    "dfList[1].isnull().sum()"
   ]
  }
 ],
 "metadata": {
  "kernelspec": {
   "display_name": "Python 3.10.4 64-bit",
   "language": "python",
   "name": "python3"
  },
  "language_info": {
   "codemirror_mode": {
    "name": "ipython",
    "version": 3
   },
   "file_extension": ".py",
   "mimetype": "text/x-python",
   "name": "python",
   "nbconvert_exporter": "python",
   "pygments_lexer": "ipython3",
   "version": "3.10.4"
  },
  "orig_nbformat": 4,
  "vscode": {
   "interpreter": {
    "hash": "04d0e37a61fc852a21ac8fa32a3c21ffb3d2c185a81b165dbad64ee5ef2e011d"
   }
  }
 },
 "nbformat": 4,
 "nbformat_minor": 2
}
